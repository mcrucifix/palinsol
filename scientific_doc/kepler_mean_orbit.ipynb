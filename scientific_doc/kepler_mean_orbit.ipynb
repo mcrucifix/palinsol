{
 "cells": [
  {
   "cell_type": "code",
   "execution_count": null,
   "id": "181ca4cd",
   "metadata": {},
   "outputs": [],
   "source": []
  },
  {
   "cell_type": "markdown",
   "id": "3d06f76c-e595-4eef-b9f3-8e98b29d859a",
   "metadata": {},
   "source": [
    "$\\newcommand\\dif{\\mathop{\\mathrm d}}$\n",
    "It the Keplerian orbit, the  true anomaly responds to the following equation:\n",
    "\\begin{equation}\\frac{\\dif \\nu}{\\dif t} = \\frac{a^2}{r^2}\\frac{\\pi \\sqrt{1-e^2}}{T}\\end{equation}\n",
    "\n",
    "On the other hand, the _mean_ anomaly simply responds, by definition, to \n",
    "\\begin{equation}\\frac{\\dif m}{\\dif t} = \\frac{2\\pi}{T}\\end{equation}\n",
    "\n",
    "We combine both to obtain"
   ]
  },
  {
   "cell_type": "markdown",
   "id": "894dbd48",
   "metadata": {},
   "source": [
    "\\begin{equation}\n",
    "\\frac{\\dif \\nu}{\\dif m} = \\frac{a^2}{r^2}\\sqrt{1-e^2}\n",
    "\\end{equation} or\n",
    "\n",
    "$$\n",
    "\\frac{\\dif m}{\\dif \\nu} = \\frac{r^2}{a^2}\\frac{1}{\\sqrt{1-e^2}}\n",
    "$$\n"
   ]
  },
  {
   "cell_type": "markdown",
   "id": "cab7d7cd-d467-4423-afc7-faaaa4183ad5",
   "metadata": {},
   "source": [
    "We also need \n",
    "\\begin{equation}\n",
    "{r}(\\nu)=a(1-e^2) \\frac{1}{1-e\\cos\\nu}\n",
    "\\end{equation}\n",
    "to obtain"
   ]
  },
  {
   "cell_type": "markdown",
   "id": "41d8bad3",
   "metadata": {},
   "source": [
    "$$\n",
    "\\langle(\\frac{r}{a})^n\\rangle = \\frac{1}{2\\pi}\\int_0^{2\\pi}\\left(\\frac{r}{a}\\right)^n \\dif m = \\frac{1}{2\\pi}\n",
    "(1-e^2)^{n+\\frac{3}{2}} \\int_0^{2\\pi}\\frac{1}{(1-e\\cos \\nu)^{n+2}}\\dif \\nu$$"
   ]
  },
  {
   "cell_type": "markdown",
   "id": "1301d062",
   "metadata": {},
   "source": [
    "For $n=-2$, relevant for insolation, we find $\\langle(\\frac{r}{a})^{-2}\\rangle = (1-e^2)^{-\\frac{1}{2}}$ which indeed is consistetn with Milankovitch. "
   ]
  },
  {
   "cell_type": "markdown",
   "id": "440a81ce",
   "metadata": {},
   "source": [
    "For other values of $n$ we need some help. "
   ]
  },
  {
   "cell_type": "code",
   "execution_count": 1,
   "id": "983650e5",
   "metadata": {},
   "outputs": [
    {
     "data": {
      "text/latex": [
       "\\[\\tag{${\\it \\%o}_{0}$}f\\left(n\\right):=\\frac{\\left(1-e^2\\right)^{n+\\frac{3}{2}}}{\\left(1-e\\,\\cos x\\right)^{n+2}}\\]"
      ],
      "text/plain": [
       "                                          2 n + 3/2\n",
       "                                    (1 - e )\n",
       "(%o0)                     f(n) := -------------------\n",
       "                                                n + 2\n",
       "                                  (1 - e cos(x))"
      ],
      "text/x-maxima": [
       "f(n):=(1-e^2)^(n+3/2)/(1-e*cos(x))^(n+2)"
      ]
     },
     "execution_count": 1,
     "metadata": {},
     "output_type": "execute_result"
    }
   ],
   "source": [
    "f(n):= (1-e^2)^(n+3/2)/(1-e*cos(x))^(n+2);"
   ]
  },
  {
   "cell_type": "code",
   "execution_count": 2,
   "id": "eec57ead",
   "metadata": {},
   "outputs": [
    {
     "data": {
      "text/latex": [
       "\\[\\tag{${\\it \\%o}_{1}$}\\left[ e>0 \\right] \\]"
      ],
      "text/plain": [
       "(%o1)                               [e > 0]"
      ],
      "text/x-maxima": [
       "[e > 0]"
      ]
     },
     "execution_count": 2,
     "metadata": {},
     "output_type": "execute_result"
    },
    {
     "data": {
      "text/latex": [
       "\\[\\tag{${\\it \\%o}_{2}$}\\left[ e<1 \\right] \\]"
      ],
      "text/plain": [
       "(%o2)                               [e < 1]"
      ],
      "text/x-maxima": [
       "[e < 1]"
      ]
     },
     "execution_count": 2,
     "metadata": {},
     "output_type": "execute_result"
    }
   ],
   "source": [
    "assume(e>0); assume(e<1);"
   ]
  },
  {
   "cell_type": "code",
   "execution_count": 14,
   "id": "0bad120c",
   "metadata": {},
   "outputs": [
    {
     "data": {
      "text/latex": [
       "\\[\\tag{${\\it \\%o}_{16}$}\\left[ {\\it redundant} \\right] \\]"
      ],
      "text/plain": [
       "(%o16)                            [redundant]"
      ],
      "text/x-maxima": [
       "[redundant]"
      ]
     },
     "execution_count": 14,
     "metadata": {},
     "output_type": "execute_result"
    },
    {
     "data": {
      "text/latex": [
       "\\[\\tag{${\\it \\%o}_{17}$}\\left[ {\\it redundant} \\right] \\]"
      ],
      "text/plain": [
       "(%o17)                            [redundant]"
      ],
      "text/x-maxima": [
       "[redundant]"
      ]
     },
     "execution_count": 14,
     "metadata": {},
     "output_type": "execute_result"
    }
   ],
   "source": [
    "assume(abs(sqrt(1-e^2)-1) < e);\n",
    "assume(sqrt(1-e^2)-e+1 > 0);"
   ]
  },
  {
   "cell_type": "code",
   "execution_count": 15,
   "id": "5d4f60bd",
   "metadata": {},
   "outputs": [
    {
     "data": {
      "text/latex": [
       "\\[\\tag{${\\it \\%o}_{18}$}\\frac{1}{\\sqrt{1-e^2}}\\]"
      ],
      "text/plain": [
       "                                      1\n",
       "(%o18)                           ------------\n",
       "                                           2\n",
       "                                 sqrt(1 - e )"
      ],
      "text/x-maxima": [
       "1/sqrt(1-e^2)"
      ]
     },
     "execution_count": 15,
     "metadata": {},
     "output_type": "execute_result"
    }
   ],
   "source": [
    "expand(integrate(f(-2), x, 0, 2*%pi)/(2*%pi));"
   ]
  },
  {
   "cell_type": "code",
   "execution_count": 16,
   "id": "9ae8ff55",
   "metadata": {},
   "outputs": [
    {
     "name": "stdout",
     "output_type": "stream",
     "text": [
      "\n",
      "   !          2     !\n",
      "Is !sqrt(1 - e ) - 1! - e positive, negative or zero?\n",
      "negative;\n"
     ]
    },
    {
     "data": {
      "text/latex": [
       "\\[\\tag{${\\it \\%o}_{19}$}1\\]"
      ],
      "text/plain": [
       "(%o19)                                 1"
      ],
      "text/x-maxima": [
       "1"
      ]
     },
     "execution_count": 16,
     "metadata": {},
     "output_type": "execute_result"
    }
   ],
   "source": [
    "expand(integrate(f(-1), x, 0, 2*%pi)/(2*%pi));"
   ]
  },
  {
   "cell_type": "code",
   "execution_count": 8,
   "id": "c43b2973",
   "metadata": {},
   "outputs": [
    {
     "name": "stdout",
     "output_type": "stream",
     "text": [
      "\n",
      "   !          2     !\n",
      "Is !sqrt(1 - e ) - 1! - e positive, negative or zero?\n",
      "negative;\n"
     ]
    },
    {
     "data": {
      "text/latex": [
       "\\[\\tag{${\\it \\%o}_{9}$}\\frac{e^2+2}{2}\\]"
      ],
      "text/plain": [
       "                                     2\n",
       "                                    e  + 2\n",
       "(%o9)                               ------\n",
       "                                      2"
      ],
      "text/x-maxima": [
       "(e^2+2)/2"
      ]
     },
     "execution_count": 8,
     "metadata": {},
     "output_type": "execute_result"
    }
   ],
   "source": [
    "factor(integrate(f(1), x, 0, 2*%pi)/(2*%pi));"
   ]
  },
  {
   "cell_type": "code",
   "execution_count": 21,
   "id": "be4c729c",
   "metadata": {},
   "outputs": [
    {
     "data": {
      "text/latex": [
       "\\[\\tag{${\\it \\%o}_{24}$}\\frac{1}{\\left(1-e^2\\right)^{\\frac{3}{2}}}\\]"
      ],
      "text/plain": [
       "                                       1\n",
       "(%o24)                            -----------\n",
       "                                        2 3/2\n",
       "                                  (1 - e )"
      ],
      "text/x-maxima": [
       "1/(1-e^2)^(3/2)"
      ]
     },
     "execution_count": 21,
     "metadata": {},
     "output_type": "execute_result"
    }
   ],
   "source": [
    "(integrate(f(-3), x, 0, 2*%pi)/(2*%pi));"
   ]
  },
  {
   "cell_type": "code",
   "execution_count": 10,
   "id": "9a7757af",
   "metadata": {},
   "outputs": [
    {
     "name": "stdout",
     "output_type": "stream",
     "text": [
      "\n",
      "   !          2     !\n",
      "Is !sqrt(1 - e ) - 1! - e positive, negative or zero?\n",
      "negative;\n"
     ]
    },
    {
     "data": {
      "text/latex": [
       "\\[\\tag{${\\it \\%o}_{11}$}\\frac{3\\,e^2+2}{2}\\]"
      ],
      "text/plain": [
       "                                      2\n",
       "                                   3 e  + 2\n",
       "(%o11)                             --------\n",
       "                                      2"
      ],
      "text/x-maxima": [
       "(3*e^2+2)/2"
      ]
     },
     "execution_count": 10,
     "metadata": {},
     "output_type": "execute_result"
    }
   ],
   "source": [
    "factor(integrate(f(2), x, 0, 2*%pi)/(2*%pi));"
   ]
  },
  {
   "cell_type": "code",
   "execution_count": 19,
   "id": "34d0bf79",
   "metadata": {},
   "outputs": [
    {
     "data": {
      "text/latex": [
       "\\[\\tag{${\\it \\%o}_{22}$}\\frac{3\\,e^4}{8}-\\frac{3\\,e^2}{2}+1\\]"
      ],
      "text/plain": [
       "                                   4      2\n",
       "                                3 e    3 e\n",
       "(%o22)                          ---- - ---- + 1\n",
       "                                 8      2"
      ],
      "text/x-maxima": [
       "(3*e^4)/8-(3*e^2)/2+1"
      ]
     },
     "execution_count": 19,
     "metadata": {},
     "output_type": "execute_result"
    }
   ],
   "source": [
    "taylor((1-e^2)^(3/2), [e], 0, 4);"
   ]
  },
  {
   "cell_type": "code",
   "execution_count": null,
   "id": "770d4f63",
   "metadata": {},
   "outputs": [],
   "source": []
  }
 ],
 "metadata": {
  "kernelspec": {
   "display_name": "Maxima",
   "language": "maxima",
   "name": "maxima"
  },
  "language_info": {
   "codemirror_mode": "maxima",
   "file_extension": ".mac",
   "mimetype": "text/x-maxima",
   "name": "maxima",
   "pygments_lexer": "maxima",
   "version": "5.46.0"
  }
 },
 "nbformat": 4,
 "nbformat_minor": 5
}
